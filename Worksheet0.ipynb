{
 "cells": [
  {
   "cell_type": "code",
   "execution_count": null,
   "id": "653a073e-8cea-4231-be9b-7b9d7df6bd19",
   "metadata": {
    "vscode": {
     "languageId": "python"
    }
   },
   "outputs": [],
   "source": [
    "def generate_permutations(s):\n",
    "    if len(s) == 1:\n",
    "        return [s]\n",
    "    \n",
    "    permutations = set()\n",
    "    \n",
    "    for i in range(len(s)):\n",
    "        current_char = s[i]\n",
    "        remaining_str = s[:i] + s[i+1:]\n",
    "        \n",
    "        for perm in generate_permutations(remaining_str):\n",
    "            permutations.add(current_char + perm)\n",
    "    \n",
    "    return list(permutations)\n",
    "\n",
    "print(generate_permutations(\"abc\"))\n",
    "print(generate_permutations(\"aab\"))"
   ]
  }
 ],
 "metadata": {
  "kernelspec": {
   "display_name": "",
   "name": ""
  },
  "language_info": {
   "name": ""
  }
 },
 "nbformat": 4,
 "nbformat_minor": 5
}
